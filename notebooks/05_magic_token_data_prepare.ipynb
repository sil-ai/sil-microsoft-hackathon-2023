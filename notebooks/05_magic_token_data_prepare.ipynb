{
 "cells": [
  {
   "cell_type": "code",
   "execution_count": 1,
   "id": "d5a783f5-c3af-4489-88b8-ff1804c54c4b",
   "metadata": {},
   "outputs": [
    {
     "name": "stdout",
     "output_type": "stream",
     "text": [
      "GPU acceleration is available and working.\n"
     ]
    }
   ],
   "source": [
    "import torch\n",
    "\n",
    "# Check if CUDA (GPU) is available\n",
    "if torch.cuda.is_available():\n",
    "    # Create a tensor on the GPU\n",
    "    device = torch.device(\"cuda\")\n",
    "    x = torch.randn(3, 3).to(device)\n",
    "\n",
    "    # Perform a simple computation on the GPU\n",
    "    y = x + x\n",
    "\n",
    "    # Move the result back to CPU and print\n",
    "    y = y.to(\"cpu\")\n",
    "    print(\"GPU acceleration is available and working.\")\n",
    "else:\n",
    "    print(\"GPU acceleration is not available on this system.\")"
   ]
  },
  {
   "cell_type": "code",
   "execution_count": 2,
   "id": "742596f2-57ef-4325-8a3d-55b32c961ca8",
   "metadata": {},
   "outputs": [
    {
     "name": "stdout",
     "output_type": "stream",
     "text": [
      "Requirement already satisfied: transformers in /home/lansford/Sync/projects/tf_over/hackathon/microsoft_gpt_hackathon_2023/sil-microsoft-hackathon-2023/venv/lib/python3.10/site-packages (4.33.1)\n",
      "Requirement already satisfied: packaging>=20.0 in /home/lansford/Sync/projects/tf_over/hackathon/microsoft_gpt_hackathon_2023/sil-microsoft-hackathon-2023/venv/lib/python3.10/site-packages (from transformers) (23.1)\n",
      "Requirement already satisfied: pyyaml>=5.1 in /home/lansford/Sync/projects/tf_over/hackathon/microsoft_gpt_hackathon_2023/sil-microsoft-hackathon-2023/venv/lib/python3.10/site-packages (from transformers) (6.0.1)\n",
      "Requirement already satisfied: safetensors>=0.3.1 in /home/lansford/Sync/projects/tf_over/hackathon/microsoft_gpt_hackathon_2023/sil-microsoft-hackathon-2023/venv/lib/python3.10/site-packages (from transformers) (0.3.3)\n",
      "Requirement already satisfied: requests in /home/lansford/Sync/projects/tf_over/hackathon/microsoft_gpt_hackathon_2023/sil-microsoft-hackathon-2023/venv/lib/python3.10/site-packages (from transformers) (2.31.0)\n",
      "Requirement already satisfied: huggingface-hub<1.0,>=0.15.1 in /home/lansford/Sync/projects/tf_over/hackathon/microsoft_gpt_hackathon_2023/sil-microsoft-hackathon-2023/venv/lib/python3.10/site-packages (from transformers) (0.17.1)\n",
      "Requirement already satisfied: tqdm>=4.27 in /home/lansford/Sync/projects/tf_over/hackathon/microsoft_gpt_hackathon_2023/sil-microsoft-hackathon-2023/venv/lib/python3.10/site-packages (from transformers) (4.66.1)\n",
      "Requirement already satisfied: regex!=2019.12.17 in /home/lansford/Sync/projects/tf_over/hackathon/microsoft_gpt_hackathon_2023/sil-microsoft-hackathon-2023/venv/lib/python3.10/site-packages (from transformers) (2023.8.8)\n",
      "Requirement already satisfied: filelock in /home/lansford/Sync/projects/tf_over/hackathon/microsoft_gpt_hackathon_2023/sil-microsoft-hackathon-2023/venv/lib/python3.10/site-packages (from transformers) (3.12.3)\n",
      "Requirement already satisfied: tokenizers!=0.11.3,<0.14,>=0.11.1 in /home/lansford/Sync/projects/tf_over/hackathon/microsoft_gpt_hackathon_2023/sil-microsoft-hackathon-2023/venv/lib/python3.10/site-packages (from transformers) (0.13.3)\n",
      "Requirement already satisfied: numpy>=1.17 in /home/lansford/Sync/projects/tf_over/hackathon/microsoft_gpt_hackathon_2023/sil-microsoft-hackathon-2023/venv/lib/python3.10/site-packages (from transformers) (1.25.2)\n",
      "Requirement already satisfied: fsspec in /home/lansford/Sync/projects/tf_over/hackathon/microsoft_gpt_hackathon_2023/sil-microsoft-hackathon-2023/venv/lib/python3.10/site-packages (from huggingface-hub<1.0,>=0.15.1->transformers) (2023.6.0)\n",
      "Requirement already satisfied: typing-extensions>=3.7.4.3 in /home/lansford/Sync/projects/tf_over/hackathon/microsoft_gpt_hackathon_2023/sil-microsoft-hackathon-2023/venv/lib/python3.10/site-packages (from huggingface-hub<1.0,>=0.15.1->transformers) (4.7.1)\n",
      "Requirement already satisfied: idna<4,>=2.5 in /home/lansford/Sync/projects/tf_over/hackathon/microsoft_gpt_hackathon_2023/sil-microsoft-hackathon-2023/venv/lib/python3.10/site-packages (from requests->transformers) (3.4)\n",
      "Requirement already satisfied: certifi>=2017.4.17 in /home/lansford/Sync/projects/tf_over/hackathon/microsoft_gpt_hackathon_2023/sil-microsoft-hackathon-2023/venv/lib/python3.10/site-packages (from requests->transformers) (2023.7.22)\n",
      "Requirement already satisfied: urllib3<3,>=1.21.1 in /home/lansford/Sync/projects/tf_over/hackathon/microsoft_gpt_hackathon_2023/sil-microsoft-hackathon-2023/venv/lib/python3.10/site-packages (from requests->transformers) (2.0.4)\n",
      "Requirement already satisfied: charset-normalizer<4,>=2 in /home/lansford/Sync/projects/tf_over/hackathon/microsoft_gpt_hackathon_2023/sil-microsoft-hackathon-2023/venv/lib/python3.10/site-packages (from requests->transformers) (3.2.0)\n",
      "Requirement already satisfied: datasets in /home/lansford/Sync/projects/tf_over/hackathon/microsoft_gpt_hackathon_2023/sil-microsoft-hackathon-2023/venv/lib/python3.10/site-packages (2.14.5)\n",
      "Requirement already satisfied: multiprocess in /home/lansford/Sync/projects/tf_over/hackathon/microsoft_gpt_hackathon_2023/sil-microsoft-hackathon-2023/venv/lib/python3.10/site-packages (from datasets) (0.70.15)\n",
      "Requirement already satisfied: packaging in /home/lansford/Sync/projects/tf_over/hackathon/microsoft_gpt_hackathon_2023/sil-microsoft-hackathon-2023/venv/lib/python3.10/site-packages (from datasets) (23.1)\n",
      "Requirement already satisfied: pandas in /home/lansford/Sync/projects/tf_over/hackathon/microsoft_gpt_hackathon_2023/sil-microsoft-hackathon-2023/venv/lib/python3.10/site-packages (from datasets) (2.1.0)\n",
      "Requirement already satisfied: pyarrow>=8.0.0 in /home/lansford/Sync/projects/tf_over/hackathon/microsoft_gpt_hackathon_2023/sil-microsoft-hackathon-2023/venv/lib/python3.10/site-packages (from datasets) (13.0.0)\n",
      "Requirement already satisfied: requests>=2.19.0 in /home/lansford/Sync/projects/tf_over/hackathon/microsoft_gpt_hackathon_2023/sil-microsoft-hackathon-2023/venv/lib/python3.10/site-packages (from datasets) (2.31.0)\n",
      "Requirement already satisfied: pyyaml>=5.1 in /home/lansford/Sync/projects/tf_over/hackathon/microsoft_gpt_hackathon_2023/sil-microsoft-hackathon-2023/venv/lib/python3.10/site-packages (from datasets) (6.0.1)\n",
      "Requirement already satisfied: xxhash in /home/lansford/Sync/projects/tf_over/hackathon/microsoft_gpt_hackathon_2023/sil-microsoft-hackathon-2023/venv/lib/python3.10/site-packages (from datasets) (3.3.0)\n",
      "Requirement already satisfied: tqdm>=4.62.1 in /home/lansford/Sync/projects/tf_over/hackathon/microsoft_gpt_hackathon_2023/sil-microsoft-hackathon-2023/venv/lib/python3.10/site-packages (from datasets) (4.66.1)\n",
      "Requirement already satisfied: fsspec[http]<2023.9.0,>=2023.1.0 in /home/lansford/Sync/projects/tf_over/hackathon/microsoft_gpt_hackathon_2023/sil-microsoft-hackathon-2023/venv/lib/python3.10/site-packages (from datasets) (2023.6.0)\n",
      "Requirement already satisfied: aiohttp in /home/lansford/Sync/projects/tf_over/hackathon/microsoft_gpt_hackathon_2023/sil-microsoft-hackathon-2023/venv/lib/python3.10/site-packages (from datasets) (3.8.5)\n",
      "Requirement already satisfied: huggingface-hub<1.0.0,>=0.14.0 in /home/lansford/Sync/projects/tf_over/hackathon/microsoft_gpt_hackathon_2023/sil-microsoft-hackathon-2023/venv/lib/python3.10/site-packages (from datasets) (0.17.1)\n",
      "Requirement already satisfied: numpy>=1.17 in /home/lansford/Sync/projects/tf_over/hackathon/microsoft_gpt_hackathon_2023/sil-microsoft-hackathon-2023/venv/lib/python3.10/site-packages (from datasets) (1.25.2)\n",
      "Requirement already satisfied: dill<0.3.8,>=0.3.0 in /home/lansford/Sync/projects/tf_over/hackathon/microsoft_gpt_hackathon_2023/sil-microsoft-hackathon-2023/venv/lib/python3.10/site-packages (from datasets) (0.3.7)\n",
      "Requirement already satisfied: attrs>=17.3.0 in /home/lansford/Sync/projects/tf_over/hackathon/microsoft_gpt_hackathon_2023/sil-microsoft-hackathon-2023/venv/lib/python3.10/site-packages (from aiohttp->datasets) (23.1.0)\n",
      "Requirement already satisfied: aiosignal>=1.1.2 in /home/lansford/Sync/projects/tf_over/hackathon/microsoft_gpt_hackathon_2023/sil-microsoft-hackathon-2023/venv/lib/python3.10/site-packages (from aiohttp->datasets) (1.3.1)\n",
      "Requirement already satisfied: multidict<7.0,>=4.5 in /home/lansford/Sync/projects/tf_over/hackathon/microsoft_gpt_hackathon_2023/sil-microsoft-hackathon-2023/venv/lib/python3.10/site-packages (from aiohttp->datasets) (6.0.4)\n",
      "Requirement already satisfied: frozenlist>=1.1.1 in /home/lansford/Sync/projects/tf_over/hackathon/microsoft_gpt_hackathon_2023/sil-microsoft-hackathon-2023/venv/lib/python3.10/site-packages (from aiohttp->datasets) (1.4.0)\n",
      "Requirement already satisfied: charset-normalizer<4.0,>=2.0 in /home/lansford/Sync/projects/tf_over/hackathon/microsoft_gpt_hackathon_2023/sil-microsoft-hackathon-2023/venv/lib/python3.10/site-packages (from aiohttp->datasets) (3.2.0)\n",
      "Requirement already satisfied: yarl<2.0,>=1.0 in /home/lansford/Sync/projects/tf_over/hackathon/microsoft_gpt_hackathon_2023/sil-microsoft-hackathon-2023/venv/lib/python3.10/site-packages (from aiohttp->datasets) (1.9.2)\n",
      "Requirement already satisfied: async-timeout<5.0,>=4.0.0a3 in /home/lansford/Sync/projects/tf_over/hackathon/microsoft_gpt_hackathon_2023/sil-microsoft-hackathon-2023/venv/lib/python3.10/site-packages (from aiohttp->datasets) (4.0.3)\n",
      "Requirement already satisfied: filelock in /home/lansford/Sync/projects/tf_over/hackathon/microsoft_gpt_hackathon_2023/sil-microsoft-hackathon-2023/venv/lib/python3.10/site-packages (from huggingface-hub<1.0.0,>=0.14.0->datasets) (3.12.3)\n",
      "Requirement already satisfied: typing-extensions>=3.7.4.3 in /home/lansford/Sync/projects/tf_over/hackathon/microsoft_gpt_hackathon_2023/sil-microsoft-hackathon-2023/venv/lib/python3.10/site-packages (from huggingface-hub<1.0.0,>=0.14.0->datasets) (4.7.1)\n",
      "Requirement already satisfied: idna<4,>=2.5 in /home/lansford/Sync/projects/tf_over/hackathon/microsoft_gpt_hackathon_2023/sil-microsoft-hackathon-2023/venv/lib/python3.10/site-packages (from requests>=2.19.0->datasets) (3.4)\n",
      "Requirement already satisfied: urllib3<3,>=1.21.1 in /home/lansford/Sync/projects/tf_over/hackathon/microsoft_gpt_hackathon_2023/sil-microsoft-hackathon-2023/venv/lib/python3.10/site-packages (from requests>=2.19.0->datasets) (2.0.4)\n",
      "Requirement already satisfied: certifi>=2017.4.17 in /home/lansford/Sync/projects/tf_over/hackathon/microsoft_gpt_hackathon_2023/sil-microsoft-hackathon-2023/venv/lib/python3.10/site-packages (from requests>=2.19.0->datasets) (2023.7.22)\n",
      "Requirement already satisfied: tzdata>=2022.1 in /home/lansford/Sync/projects/tf_over/hackathon/microsoft_gpt_hackathon_2023/sil-microsoft-hackathon-2023/venv/lib/python3.10/site-packages (from pandas->datasets) (2023.3)\n",
      "Requirement already satisfied: python-dateutil>=2.8.2 in /home/lansford/Sync/projects/tf_over/hackathon/microsoft_gpt_hackathon_2023/sil-microsoft-hackathon-2023/venv/lib/python3.10/site-packages (from pandas->datasets) (2.8.2)\n",
      "Requirement already satisfied: pytz>=2020.1 in /home/lansford/Sync/projects/tf_over/hackathon/microsoft_gpt_hackathon_2023/sil-microsoft-hackathon-2023/venv/lib/python3.10/site-packages (from pandas->datasets) (2023.3.post1)\n",
      "Requirement already satisfied: six>=1.5 in /home/lansford/Sync/projects/tf_over/hackathon/microsoft_gpt_hackathon_2023/sil-microsoft-hackathon-2023/venv/lib/python3.10/site-packages (from python-dateutil>=2.8.2->pandas->datasets) (1.16.0)\n",
      "Requirement already satisfied: transformers[torch] in /home/lansford/Sync/projects/tf_over/hackathon/microsoft_gpt_hackathon_2023/sil-microsoft-hackathon-2023/venv/lib/python3.10/site-packages (4.33.1)\n",
      "Requirement already satisfied: packaging>=20.0 in /home/lansford/Sync/projects/tf_over/hackathon/microsoft_gpt_hackathon_2023/sil-microsoft-hackathon-2023/venv/lib/python3.10/site-packages (from transformers[torch]) (23.1)\n",
      "Requirement already satisfied: filelock in /home/lansford/Sync/projects/tf_over/hackathon/microsoft_gpt_hackathon_2023/sil-microsoft-hackathon-2023/venv/lib/python3.10/site-packages (from transformers[torch]) (3.12.3)\n",
      "Requirement already satisfied: regex!=2019.12.17 in /home/lansford/Sync/projects/tf_over/hackathon/microsoft_gpt_hackathon_2023/sil-microsoft-hackathon-2023/venv/lib/python3.10/site-packages (from transformers[torch]) (2023.8.8)\n",
      "Requirement already satisfied: tokenizers!=0.11.3,<0.14,>=0.11.1 in /home/lansford/Sync/projects/tf_over/hackathon/microsoft_gpt_hackathon_2023/sil-microsoft-hackathon-2023/venv/lib/python3.10/site-packages (from transformers[torch]) (0.13.3)\n",
      "Requirement already satisfied: pyyaml>=5.1 in /home/lansford/Sync/projects/tf_over/hackathon/microsoft_gpt_hackathon_2023/sil-microsoft-hackathon-2023/venv/lib/python3.10/site-packages (from transformers[torch]) (6.0.1)\n",
      "Requirement already satisfied: safetensors>=0.3.1 in /home/lansford/Sync/projects/tf_over/hackathon/microsoft_gpt_hackathon_2023/sil-microsoft-hackathon-2023/venv/lib/python3.10/site-packages (from transformers[torch]) (0.3.3)\n",
      "Requirement already satisfied: numpy>=1.17 in /home/lansford/Sync/projects/tf_over/hackathon/microsoft_gpt_hackathon_2023/sil-microsoft-hackathon-2023/venv/lib/python3.10/site-packages (from transformers[torch]) (1.25.2)\n",
      "Requirement already satisfied: huggingface-hub<1.0,>=0.15.1 in /home/lansford/Sync/projects/tf_over/hackathon/microsoft_gpt_hackathon_2023/sil-microsoft-hackathon-2023/venv/lib/python3.10/site-packages (from transformers[torch]) (0.17.1)\n",
      "Requirement already satisfied: requests in /home/lansford/Sync/projects/tf_over/hackathon/microsoft_gpt_hackathon_2023/sil-microsoft-hackathon-2023/venv/lib/python3.10/site-packages (from transformers[torch]) (2.31.0)\n",
      "Requirement already satisfied: tqdm>=4.27 in /home/lansford/Sync/projects/tf_over/hackathon/microsoft_gpt_hackathon_2023/sil-microsoft-hackathon-2023/venv/lib/python3.10/site-packages (from transformers[torch]) (4.66.1)\n",
      "Requirement already satisfied: torch!=1.12.0,>=1.10 in /home/lansford/Sync/projects/tf_over/hackathon/microsoft_gpt_hackathon_2023/sil-microsoft-hackathon-2023/venv/lib/python3.10/site-packages (from transformers[torch]) (2.0.1)\n",
      "Requirement already satisfied: accelerate>=0.20.3 in /home/lansford/Sync/projects/tf_over/hackathon/microsoft_gpt_hackathon_2023/sil-microsoft-hackathon-2023/venv/lib/python3.10/site-packages (from transformers[torch]) (0.22.0)\n",
      "Requirement already satisfied: psutil in /home/lansford/Sync/projects/tf_over/hackathon/microsoft_gpt_hackathon_2023/sil-microsoft-hackathon-2023/venv/lib/python3.10/site-packages (from accelerate>=0.20.3->transformers[torch]) (5.9.5)\n",
      "Requirement already satisfied: typing-extensions>=3.7.4.3 in /home/lansford/Sync/projects/tf_over/hackathon/microsoft_gpt_hackathon_2023/sil-microsoft-hackathon-2023/venv/lib/python3.10/site-packages (from huggingface-hub<1.0,>=0.15.1->transformers[torch]) (4.7.1)\n",
      "Requirement already satisfied: fsspec in /home/lansford/Sync/projects/tf_over/hackathon/microsoft_gpt_hackathon_2023/sil-microsoft-hackathon-2023/venv/lib/python3.10/site-packages (from huggingface-hub<1.0,>=0.15.1->transformers[torch]) (2023.6.0)\n",
      "Requirement already satisfied: triton==2.0.0 in /home/lansford/Sync/projects/tf_over/hackathon/microsoft_gpt_hackathon_2023/sil-microsoft-hackathon-2023/venv/lib/python3.10/site-packages (from torch!=1.12.0,>=1.10->transformers[torch]) (2.0.0)\n",
      "Requirement already satisfied: nvidia-cuda-nvrtc-cu11==11.7.99 in /home/lansford/Sync/projects/tf_over/hackathon/microsoft_gpt_hackathon_2023/sil-microsoft-hackathon-2023/venv/lib/python3.10/site-packages (from torch!=1.12.0,>=1.10->transformers[torch]) (11.7.99)\n",
      "Requirement already satisfied: nvidia-nvtx-cu11==11.7.91 in /home/lansford/Sync/projects/tf_over/hackathon/microsoft_gpt_hackathon_2023/sil-microsoft-hackathon-2023/venv/lib/python3.10/site-packages (from torch!=1.12.0,>=1.10->transformers[torch]) (11.7.91)\n",
      "Requirement already satisfied: jinja2 in /home/lansford/Sync/projects/tf_over/hackathon/microsoft_gpt_hackathon_2023/sil-microsoft-hackathon-2023/venv/lib/python3.10/site-packages (from torch!=1.12.0,>=1.10->transformers[torch]) (3.1.2)\n",
      "Requirement already satisfied: nvidia-cufft-cu11==10.9.0.58 in /home/lansford/Sync/projects/tf_over/hackathon/microsoft_gpt_hackathon_2023/sil-microsoft-hackathon-2023/venv/lib/python3.10/site-packages (from torch!=1.12.0,>=1.10->transformers[torch]) (10.9.0.58)\n",
      "Requirement already satisfied: nvidia-cuda-cupti-cu11==11.7.101 in /home/lansford/Sync/projects/tf_over/hackathon/microsoft_gpt_hackathon_2023/sil-microsoft-hackathon-2023/venv/lib/python3.10/site-packages (from torch!=1.12.0,>=1.10->transformers[torch]) (11.7.101)\n",
      "Requirement already satisfied: nvidia-cublas-cu11==11.10.3.66 in /home/lansford/Sync/projects/tf_over/hackathon/microsoft_gpt_hackathon_2023/sil-microsoft-hackathon-2023/venv/lib/python3.10/site-packages (from torch!=1.12.0,>=1.10->transformers[torch]) (11.10.3.66)\n",
      "Requirement already satisfied: nvidia-cudnn-cu11==8.5.0.96 in /home/lansford/Sync/projects/tf_over/hackathon/microsoft_gpt_hackathon_2023/sil-microsoft-hackathon-2023/venv/lib/python3.10/site-packages (from torch!=1.12.0,>=1.10->transformers[torch]) (8.5.0.96)\n",
      "Requirement already satisfied: nvidia-nccl-cu11==2.14.3 in /home/lansford/Sync/projects/tf_over/hackathon/microsoft_gpt_hackathon_2023/sil-microsoft-hackathon-2023/venv/lib/python3.10/site-packages (from torch!=1.12.0,>=1.10->transformers[torch]) (2.14.3)\n",
      "Requirement already satisfied: nvidia-curand-cu11==10.2.10.91 in /home/lansford/Sync/projects/tf_over/hackathon/microsoft_gpt_hackathon_2023/sil-microsoft-hackathon-2023/venv/lib/python3.10/site-packages (from torch!=1.12.0,>=1.10->transformers[torch]) (10.2.10.91)\n",
      "Requirement already satisfied: sympy in /home/lansford/Sync/projects/tf_over/hackathon/microsoft_gpt_hackathon_2023/sil-microsoft-hackathon-2023/venv/lib/python3.10/site-packages (from torch!=1.12.0,>=1.10->transformers[torch]) (1.12)\n",
      "Requirement already satisfied: networkx in /home/lansford/Sync/projects/tf_over/hackathon/microsoft_gpt_hackathon_2023/sil-microsoft-hackathon-2023/venv/lib/python3.10/site-packages (from torch!=1.12.0,>=1.10->transformers[torch]) (3.1)\n",
      "Requirement already satisfied: nvidia-cusparse-cu11==11.7.4.91 in /home/lansford/Sync/projects/tf_over/hackathon/microsoft_gpt_hackathon_2023/sil-microsoft-hackathon-2023/venv/lib/python3.10/site-packages (from torch!=1.12.0,>=1.10->transformers[torch]) (11.7.4.91)\n",
      "Requirement already satisfied: nvidia-cusolver-cu11==11.4.0.1 in /home/lansford/Sync/projects/tf_over/hackathon/microsoft_gpt_hackathon_2023/sil-microsoft-hackathon-2023/venv/lib/python3.10/site-packages (from torch!=1.12.0,>=1.10->transformers[torch]) (11.4.0.1)\n",
      "Requirement already satisfied: nvidia-cuda-runtime-cu11==11.7.99 in /home/lansford/Sync/projects/tf_over/hackathon/microsoft_gpt_hackathon_2023/sil-microsoft-hackathon-2023/venv/lib/python3.10/site-packages (from torch!=1.12.0,>=1.10->transformers[torch]) (11.7.99)\n",
      "Requirement already satisfied: wheel in /home/lansford/Sync/projects/tf_over/hackathon/microsoft_gpt_hackathon_2023/sil-microsoft-hackathon-2023/venv/lib/python3.10/site-packages (from nvidia-cublas-cu11==11.10.3.66->torch!=1.12.0,>=1.10->transformers[torch]) (0.41.2)\n",
      "Requirement already satisfied: setuptools in /home/lansford/Sync/projects/tf_over/hackathon/microsoft_gpt_hackathon_2023/sil-microsoft-hackathon-2023/venv/lib/python3.10/site-packages (from nvidia-cublas-cu11==11.10.3.66->torch!=1.12.0,>=1.10->transformers[torch]) (59.6.0)\n",
      "Requirement already satisfied: cmake in /home/lansford/Sync/projects/tf_over/hackathon/microsoft_gpt_hackathon_2023/sil-microsoft-hackathon-2023/venv/lib/python3.10/site-packages (from triton==2.0.0->torch!=1.12.0,>=1.10->transformers[torch]) (3.27.4.1)\n",
      "Requirement already satisfied: lit in /home/lansford/Sync/projects/tf_over/hackathon/microsoft_gpt_hackathon_2023/sil-microsoft-hackathon-2023/venv/lib/python3.10/site-packages (from triton==2.0.0->torch!=1.12.0,>=1.10->transformers[torch]) (16.0.6)\n",
      "Requirement already satisfied: urllib3<3,>=1.21.1 in /home/lansford/Sync/projects/tf_over/hackathon/microsoft_gpt_hackathon_2023/sil-microsoft-hackathon-2023/venv/lib/python3.10/site-packages (from requests->transformers[torch]) (2.0.4)\n",
      "Requirement already satisfied: certifi>=2017.4.17 in /home/lansford/Sync/projects/tf_over/hackathon/microsoft_gpt_hackathon_2023/sil-microsoft-hackathon-2023/venv/lib/python3.10/site-packages (from requests->transformers[torch]) (2023.7.22)\n",
      "Requirement already satisfied: idna<4,>=2.5 in /home/lansford/Sync/projects/tf_over/hackathon/microsoft_gpt_hackathon_2023/sil-microsoft-hackathon-2023/venv/lib/python3.10/site-packages (from requests->transformers[torch]) (3.4)\n",
      "Requirement already satisfied: charset-normalizer<4,>=2 in /home/lansford/Sync/projects/tf_over/hackathon/microsoft_gpt_hackathon_2023/sil-microsoft-hackathon-2023/venv/lib/python3.10/site-packages (from requests->transformers[torch]) (3.2.0)\n",
      "Requirement already satisfied: MarkupSafe>=2.0 in /home/lansford/Sync/projects/tf_over/hackathon/microsoft_gpt_hackathon_2023/sil-microsoft-hackathon-2023/venv/lib/python3.10/site-packages (from jinja2->torch!=1.12.0,>=1.10->transformers[torch]) (2.1.3)\n",
      "Requirement already satisfied: mpmath>=0.19 in /home/lansford/Sync/projects/tf_over/hackathon/microsoft_gpt_hackathon_2023/sil-microsoft-hackathon-2023/venv/lib/python3.10/site-packages (from sympy->torch!=1.12.0,>=1.10->transformers[torch]) (1.3.0)\n"
     ]
    }
   ],
   "source": [
    "!pip install transformers\n",
    "!pip install datasets\n",
    "!pip install transformers[torch]"
   ]
  },
  {
   "cell_type": "code",
   "execution_count": 3,
   "id": "e1bdf5fc-43a6-48ff-bc18-f14bbd872882",
   "metadata": {},
   "outputs": [],
   "source": [
    "import pandas as pd\n",
    "import json, os\n",
    "from datasets import Dataset\n",
    "from transformers import Trainer, TrainingArguments\n",
    "from transformers import GPT2LMHeadModel, GPT2Tokenizer"
   ]
  },
  {
   "cell_type": "code",
   "execution_count": 4,
   "id": "7d72ff45-bbb6-43bf-81c7-16415663c801",
   "metadata": {},
   "outputs": [],
   "source": [
    "num_magic_tokens = 2\n",
    "language_pair_data_file = \"../data/amo.json\"\n",
    "language_pair_staging_folder = \"../data/magic_token_folder/\"\n",
    "trained_model_folder = \"./out\""
   ]
  },
  {
   "cell_type": "markdown",
   "id": "45278a02-d517-4ce3-968b-98f9dba10fb7",
   "metadata": {},
   "source": [
    "# Load the JSON file with the Greek English and Amo"
   ]
  },
  {
   "cell_type": "code",
   "execution_count": 21,
   "id": "07b0111c-ff11-4d5d-947d-2e671df31669",
   "metadata": {},
   "outputs": [],
   "source": [
    "def load_content_pairs( filename ):\n",
    "    with open( filename, \"rt\" ) as fin:\n",
    "        processed_verses = []\n",
    "        for verse in json.load(fin):\n",
    "            processed_translations = {}\n",
    "            for entry_key,translation_entry in verse.items():\n",
    "                if entry_key != \"vref\":\n",
    "                    processed_translations[entry_key] = translation_entry[\"content\"]\n",
    "                else:\n",
    "                    processed_translations[entry_key] = translation_entry\n",
    "            processed_verses.append( processed_translations )\n",
    "        return pd.DataFrame(processed_verses )\n",
    "\n",
    "data = load_content_pairs( language_pair_data_file )"
   ]
  },
  {
   "cell_type": "code",
   "execution_count": 22,
   "id": "c8ed42bd-cb87-4c4b-9085-af2bac31d2b1",
   "metadata": {},
   "outputs": [
    {
     "data": {
      "text/plain": [
       "Index(['vref', 'bsb', 'macula', 'target'], dtype='object')"
      ]
     },
     "execution_count": 22,
     "metadata": {},
     "output_type": "execute_result"
    }
   ],
   "source": [
    "data.keys()"
   ]
  },
  {
   "cell_type": "markdown",
   "id": "740ae15e-f044-415a-b71f-fee610aabd02",
   "metadata": {},
   "source": [
    "# Modify databefore it is written back out."
   ]
  },
  {
   "cell_type": "markdown",
   "id": "69d5e73c-c9db-4d92-ad57-ade946d7951b",
   "metadata": {},
   "source": [
    "split greek and hebrew (I know there is more then that, this is what we are doing now)"
   ]
  },
  {
   "cell_type": "code",
   "execution_count": 23,
   "id": "0c6b70e1-d4ed-4d75-94d0-380b8e94e27f",
   "metadata": {},
   "outputs": [
    {
     "data": {
      "text/plain": [
       "23145"
      ]
     },
     "execution_count": 23,
     "metadata": {},
     "output_type": "execute_result"
    }
   ],
   "source": [
    "nt_first_index = data[data[\"vref\"] == \"MAT 1:1\"].index[0]\n",
    "nt_first_index"
   ]
  },
  {
   "cell_type": "code",
   "execution_count": 26,
   "id": "7280c0e2-8e51-4046-b379-d185f0c509b4",
   "metadata": {},
   "outputs": [],
   "source": [
    "data.loc[data.index < nt_first_index, 'hebrew'] = data['macula']\n",
    "data.loc[data.index >= nt_first_index, 'hebrew'] = \"\"\n",
    "\n",
    "data.loc[data.index >= nt_first_index, 'greek'] = data['macula']\n",
    "data.loc[data.index < nt_first_index, 'greek'] = \"\"\n",
    "\n",
    "data = data.drop(columns=['macula'])"
   ]
  },
  {
   "cell_type": "markdown",
   "id": "38b646f3-de78-42be-8f27-065d9c5c00f8",
   "metadata": {},
   "source": [
    "For testing withhold rev from english version so that we can test projecting into it from the embeddings learned from amo and greek."
   ]
  },
  {
   "cell_type": "code",
   "execution_count": 10,
   "id": "4b45166a-7eab-4d7d-bc17-1db531bd5a9b",
   "metadata": {},
   "outputs": [],
   "source": [
    "rev_first_index = data[data['vref'] == \"REV 1:1\"].index[0]\n",
    "data.loc[data.index >= rev_first_index, 'bsb'] = \"\""
   ]
  },
  {
   "cell_type": "code",
   "execution_count": 11,
   "id": "2c13976d-5d54-49d9-ac6e-94fa71c0928a",
   "metadata": {},
   "outputs": [
    {
     "data": {
      "text/plain": [
       "'to the only God our Savior be glory, majesty, dominion, and authority through Jesus Christ our Lord before all time, and now, and for all eternity. Amen.'"
      ]
     },
     "execution_count": 11,
     "metadata": {},
     "output_type": "execute_result"
    }
   ],
   "source": [
    "data.loc[rev_first_index-1, 'bsb']"
   ]
  },
  {
   "cell_type": "markdown",
   "id": "a24925bd-c949-4b51-afb5-db3fd6316d21",
   "metadata": {},
   "source": [
    "# Process verses into individual input files"
   ]
  },
  {
   "cell_type": "code",
   "execution_count": 12,
   "id": "bc6f79d5-0a99-4da6-bf8f-dbb613425692",
   "metadata": {},
   "outputs": [],
   "source": [
    "os.makedirs( language_pair_staging_folder, exist_ok=True )\n",
    "for key in data.keys():\n",
    "    if key != \"vref\":\n",
    "        with open( os.path.join( language_pair_staging_folder, f\"train_{key}.txt\" ), \"wt\" ) as fout:\n",
    "            for index,row in data.iterrows():\n",
    "                if len(str(row[key]).strip()) > 0:\n",
    "                    vref = row['vref']\n",
    "                    fout.write( \"\".join( f\"[{vref}_{chr(i + ord('a'))}]\" for i in range(num_magic_tokens)) + f\" {row[key]}\\n\" )\n",
    "            "
   ]
  },
  {
   "attachments": {},
   "cell_type": "markdown",
   "id": "a9706377-0565-4c0b-8597-a260a683c983",
   "metadata": {},
   "source": [
    "# Modify gpt2 tokenizer and model for each language pair\n",
    "\n"
   ]
  },
  {
   "cell_type": "code",
   "execution_count": 13,
   "id": "bdf1178f-1b5c-4cb0-899c-8ba1e94f80e9",
   "metadata": {},
   "outputs": [],
   "source": [
    "def add_special_tokens_to_tokenizer( vrefs, tokenizer ):\n",
    "    special_tokens_to_add = []\n",
    "    for vref in vrefs:\n",
    "        for i in range(num_magic_tokens):\n",
    "            new_token = f\"[{vref}_{chr(i + ord('a'))}]\"\n",
    "            special_tokens_to_add.append(new_token)\n",
    "    tokenizer.add_special_tokens( {\"additional_special_tokens\": special_tokens_to_add } )\n",
    "    return special_tokens_to_add\n",
    "tokenizer = GPT2Tokenizer.from_pretrained(\"gpt2\")\n",
    "added_tokens = add_special_tokens_to_tokenizer( data[\"vref\"], tokenizer )"
   ]
  },
  {
   "cell_type": "code",
   "execution_count": 14,
   "id": "36f95777-5423-4817-8a48-feb5771d40af",
   "metadata": {},
   "outputs": [],
   "source": [
    "#save out the new tokenizer\n",
    "for key in data.keys():\n",
    "    if key != \"vref\":\n",
    "        model_folder = os.path.join( trained_model_folder, f\"{key}_model\" )\n",
    "        tokenizer.save_pretrained( model_folder )"
   ]
  },
  {
   "cell_type": "code",
   "execution_count": 15,
   "id": "39f091bc-25ba-4617-913d-750b8083b9af",
   "metadata": {
    "scrolled": true
   },
   "outputs": [
    {
     "name": "stderr",
     "output_type": "stream",
     "text": [
      "You are resizing the embedding layer without providing a `pad_to_multiple_of` parameter. This means that the new embedding dimension will be 112461. This might induce some performance reduction as *Tensor Cores* will not be available. For more details about this, or help on choosing the correct value for resizing, refer to this guide: https://docs.nvidia.com/deeplearning/performance/dl-performance-matrix-multiplication/index.html#requirements-tc\n"
     ]
    }
   ],
   "source": [
    "#now load the model\n",
    "model = GPT2LMHeadModel.from_pretrained(\"gpt2\")\n",
    "model.resize_token_embeddings(len(tokenizer))\n",
    "for key in data.keys():\n",
    "    if key != \"vref\":\n",
    "        model_folder = os.path.join( trained_model_folder, f\"{key}_model\" )\n",
    "        model.save_pretrained( model_folder )"
   ]
  },
  {
   "cell_type": "markdown",
   "id": "46e092c5-f923-4014-ba1f-c4bc07be41b0",
   "metadata": {},
   "source": [
    "# Check what the initial state is of one of the magic token"
   ]
  },
  {
   "cell_type": "code",
   "execution_count": 16,
   "id": "a44d36da-1b0f-43cb-b562-f2065583f04c",
   "metadata": {},
   "outputs": [],
   "source": [
    "import contextlib\n",
    "\n",
    "def write_help(func, out_file):\n",
    "    with open(out_file, 'w') as f:\n",
    "        with contextlib.redirect_stdout(f):\n",
    "            help(func)\n",
    "\n",
    "write_help(model, 'SS.txt')"
   ]
  },
  {
   "cell_type": "code",
   "execution_count": 17,
   "id": "c851c444-8826-46f3-8592-eed459ce4001",
   "metadata": {},
   "outputs": [],
   "source": [
    "input_embeddings = model.get_input_embeddings()"
   ]
  },
  {
   "cell_type": "code",
   "execution_count": 18,
   "id": "70dffe0b-494a-46ad-b1ee-306af6303520",
   "metadata": {},
   "outputs": [],
   "source": [
    "write_help( input_embeddings, \"input_embeddings.txt\" )"
   ]
  },
  {
   "cell_type": "code",
   "execution_count": 19,
   "id": "70d8cf4d-051b-40b6-8966-4f06ebc9d16b",
   "metadata": {},
   "outputs": [
    {
     "data": {
      "text/plain": [
       "[50257]"
      ]
     },
     "execution_count": 19,
     "metadata": {},
     "output_type": "execute_result"
    }
   ],
   "source": [
    "tokens_to_test = list(tokenizer(\"[GEN 1:1_a]\").input_ids)\n",
    "tokens_to_test"
   ]
  },
  {
   "cell_type": "code",
   "execution_count": 20,
   "id": "f7e099ab-311f-48de-b8f2-0ca77fda3c2d",
   "metadata": {},
   "outputs": [
    {
     "data": {
      "text/plain": [
       "tensor([[ 1.8218e-02, -3.3257e-02, -1.7171e-02, -1.7965e-02,  2.0816e-02,\n",
       "         -2.6498e-02, -2.2455e-02,  3.0211e-02,  1.7868e-02, -5.7020e-03,\n",
       "          4.1241e-03,  4.5361e-04, -6.3447e-02, -4.5307e-03,  4.5426e-03,\n",
       "          2.4871e-02,  1.5913e-02, -1.6129e-02,  2.9891e-03, -2.5205e-02,\n",
       "          6.6512e-03, -4.9822e-03, -5.4929e-03, -2.7331e-02, -4.5498e-02,\n",
       "          2.2512e-02, -2.6214e-02,  3.4922e-02,  2.7797e-02,  1.3524e-02,\n",
       "          2.7797e-02,  1.6790e-02,  2.0141e-02, -3.7667e-02,  1.6595e-04,\n",
       "          8.4818e-03, -1.7257e-02,  1.4155e-02, -7.8517e-03,  9.6883e-03,\n",
       "          2.0339e-02, -2.4115e-02, -8.4154e-03, -1.5157e-02,  1.8431e-02,\n",
       "          4.1104e-02, -4.9657e-02,  2.0277e-02,  2.0856e-02, -3.6539e-02,\n",
       "         -2.6159e-02,  5.0826e-03, -1.6454e-02,  1.7480e-03, -6.6160e-03,\n",
       "         -2.1845e-02,  2.6541e-02,  1.1458e-02,  5.5602e-03, -2.7316e-02,\n",
       "         -1.4009e-02,  6.5182e-03, -9.8880e-03,  6.2848e-03, -1.7856e-02,\n",
       "         -2.9930e-02,  2.2912e-02,  1.6619e-02, -1.6143e-02, -6.2203e-03,\n",
       "         -4.3921e-03, -5.1337e-03, -1.0300e-02,  6.6145e-02,  1.8177e-02,\n",
       "         -8.2226e-03, -2.8330e-02, -2.1797e-03,  1.2596e-02,  2.0708e-02,\n",
       "         -1.1388e-02, -4.4129e-02,  3.5681e-03, -1.2580e-02,  2.4466e-03,\n",
       "         -1.2306e-02, -2.9950e-02,  1.2699e-02,  9.0970e-03,  1.0662e-02,\n",
       "          8.5333e-03,  1.9354e-02,  2.0901e-02,  3.6123e-03,  2.1782e-02,\n",
       "         -3.7022e-03,  9.3727e-05,  2.8113e-02, -1.2592e-02,  1.2625e-02,\n",
       "         -1.4599e-02,  5.2488e-04,  1.8909e-02, -7.7804e-03,  4.0431e-03,\n",
       "         -3.0873e-02, -2.9951e-02,  8.7774e-03,  8.3406e-03,  1.3643e-02,\n",
       "          1.1285e-03, -3.3578e-02, -9.1827e-03, -1.3440e-02,  2.4916e-02,\n",
       "         -2.8146e-03,  9.0832e-03, -1.9314e-02,  2.5427e-02, -1.2862e-02,\n",
       "         -3.8067e-04,  1.7005e-02, -2.7779e-02, -1.4792e-03,  3.7811e-02,\n",
       "         -1.6403e-02, -1.2336e-02,  6.5324e-03,  4.0449e-03,  2.0131e-02,\n",
       "         -1.9253e-03, -1.2502e-03,  1.3183e-02,  1.1205e-02, -1.8798e-02,\n",
       "         -5.9783e-03,  4.2761e-02, -5.7486e-04,  1.7521e-02,  4.6811e-02,\n",
       "         -3.8492e-02,  3.0748e-02, -7.6973e-03,  2.1362e-02,  2.6211e-03,\n",
       "          1.8146e-02, -6.4147e-03,  3.0650e-03, -1.7754e-02, -1.3935e-02,\n",
       "          7.0726e-03,  1.6074e-02, -1.0603e-02,  1.2757e-02,  3.5656e-03,\n",
       "         -3.8468e-02, -8.0028e-03, -4.2917e-02, -2.4173e-02, -1.9070e-03,\n",
       "         -1.7228e-03,  4.2769e-03,  3.9460e-03,  3.6544e-02,  6.6913e-03,\n",
       "          5.3850e-02, -2.3683e-03, -2.9636e-02,  3.1729e-03, -3.3761e-02,\n",
       "          4.8759e-03, -6.6038e-03, -1.0441e-02,  6.6944e-03,  1.7841e-02,\n",
       "         -5.2941e-02,  1.8250e-02,  4.5979e-03, -9.0455e-03, -6.6364e-03,\n",
       "         -1.8940e-02,  1.5329e-02,  3.3691e-03, -1.6517e-03,  3.2768e-02,\n",
       "          1.5236e-02,  1.1502e-02, -1.4432e-02, -1.5144e-02,  5.4610e-03,\n",
       "          1.0716e-02,  1.8253e-02, -1.1210e-02,  1.6393e-02,  2.8865e-02,\n",
       "         -2.1901e-02, -1.2868e-02, -1.8986e-02,  1.4638e-02,  1.1139e-02,\n",
       "         -2.3700e-02,  1.6926e-02,  2.0245e-02,  3.4252e-03, -2.3575e-02,\n",
       "          1.0398e-02,  1.5964e-02,  2.3019e-02, -5.0635e-03,  4.8904e-03,\n",
       "          2.0872e-03,  1.4180e-02,  5.3708e-02,  3.3023e-02,  7.2542e-03,\n",
       "          1.3135e-02,  4.4220e-03, -1.3114e-02,  2.5302e-02, -3.8899e-03,\n",
       "          3.6248e-03,  6.0188e-03, -3.5995e-02, -5.3797e-03,  5.4435e-03,\n",
       "          1.8155e-04, -1.5838e-02,  3.4778e-02, -1.5424e-02, -1.7129e-02,\n",
       "         -9.8848e-03,  1.4365e-02,  1.6078e-02, -5.3489e-03,  1.8915e-02,\n",
       "          1.1117e-02, -1.1183e-02, -3.1402e-03,  6.4206e-03,  4.3824e-03,\n",
       "          3.1208e-02,  2.8337e-02,  1.1504e-02, -2.2522e-02, -2.3830e-03,\n",
       "         -2.5942e-02, -1.6443e-02,  3.6391e-02,  2.5663e-03, -1.9131e-02,\n",
       "          2.3364e-02,  2.2614e-02, -1.7904e-02,  1.0406e-02, -4.4720e-02,\n",
       "          1.7449e-02,  4.7454e-04,  1.4811e-02, -2.1156e-02,  4.4854e-03,\n",
       "         -1.2907e-03, -1.7630e-02, -3.1403e-02,  1.0157e-02,  4.3039e-03,\n",
       "         -1.5936e-02, -7.6829e-03,  9.6261e-03, -4.0245e-04, -2.3479e-03,\n",
       "          5.8028e-02,  3.0850e-02, -2.0781e-02,  4.4903e-02, -3.3025e-02,\n",
       "         -9.0786e-04,  3.7442e-02,  1.5959e-03, -2.6911e-02, -2.1638e-02,\n",
       "         -1.0249e-02, -1.6512e-02, -2.5627e-02, -3.0670e-03, -1.9109e-02,\n",
       "          3.2062e-02, -8.3605e-03, -5.8045e-03,  2.1888e-02,  3.2430e-02,\n",
       "          1.6498e-02, -1.1014e-02,  2.8719e-03,  2.1348e-02, -1.6787e-02,\n",
       "          1.3475e-02, -2.0482e-02, -2.1569e-02,  5.0112e-03,  3.1163e-02,\n",
       "         -7.3440e-03, -4.4100e-03,  8.4953e-03,  2.7629e-03,  1.7245e-02,\n",
       "         -7.1740e-03, -2.5157e-02,  1.2966e-02, -6.9600e-03, -4.0815e-03,\n",
       "          1.1089e-02, -1.2090e-02,  2.6236e-02,  4.2391e-02, -3.4021e-02,\n",
       "          7.9362e-03, -1.3319e-03,  1.2191e-02, -1.2960e-03,  7.8109e-03,\n",
       "         -4.0450e-02,  1.8885e-02,  2.6283e-02,  2.9014e-02,  2.5768e-03,\n",
       "         -1.9115e-02,  1.7919e-02,  7.1627e-03, -1.1081e-02, -1.8826e-03,\n",
       "          1.9062e-02, -9.6688e-03, -8.9231e-04,  2.3199e-02, -8.4636e-03,\n",
       "         -1.5415e-02,  9.6661e-03, -2.7624e-03, -3.2070e-02, -5.3164e-03,\n",
       "         -1.0065e-02,  4.3982e-03,  1.2145e-02,  2.3421e-02,  1.9697e-02,\n",
       "         -3.3737e-03, -4.5697e-02,  2.1517e-03,  2.4656e-03, -3.1966e-02,\n",
       "          2.8488e-02,  5.1291e-04, -3.9826e-03,  1.2479e-02, -8.3702e-03,\n",
       "         -4.5115e-03, -1.4162e-02,  3.4923e-03, -1.4190e-02, -2.1056e-02,\n",
       "         -1.0840e-03, -7.4989e-03,  3.1866e-03, -2.7225e-02, -7.0740e-03,\n",
       "         -9.8541e-03, -1.9054e-02, -1.7982e-02,  1.2607e-02, -2.0947e-02,\n",
       "          8.3795e-03, -2.7676e-02,  2.1652e-02,  4.1814e-03,  1.3472e-02,\n",
       "          8.0665e-03,  3.1608e-02, -1.5718e-02, -1.7028e-03,  3.2724e-03,\n",
       "         -9.4521e-03, -2.9102e-03,  2.3240e-02, -5.8519e-03,  2.6509e-02,\n",
       "         -7.3489e-03,  1.7318e-02, -1.7398e-02,  4.2766e-03, -1.0673e-02,\n",
       "         -1.4629e-02, -2.6952e-02,  4.7512e-03,  2.7153e-02, -1.0676e-02,\n",
       "          5.8167e-04,  1.2600e-02, -1.2348e-02, -2.0425e-02, -2.1834e-02,\n",
       "          9.2564e-03, -4.5106e-03, -1.9746e-02,  7.3731e-04, -2.6439e-04,\n",
       "         -2.9143e-02, -4.0713e-02,  4.3371e-03, -2.2243e-02,  1.0039e-02,\n",
       "          1.7965e-02,  4.7387e-02,  1.3806e-02,  2.1529e-02, -1.8425e-02,\n",
       "          1.9481e-02, -1.4853e-02,  1.3030e-02,  2.8767e-03,  9.2568e-03,\n",
       "         -1.3079e-02, -1.5866e-02,  5.8231e-03, -5.8742e-03, -1.0109e-02,\n",
       "          3.3454e-02, -4.0684e-02, -2.2350e-02,  1.1822e-02,  2.3275e-02,\n",
       "          3.7473e-02,  3.1265e-03,  3.0837e-02,  1.1083e-02, -1.0354e-02,\n",
       "         -8.1714e-03,  1.6307e-02,  4.5539e-03, -8.2961e-03, -4.6555e-04,\n",
       "          1.5569e-02,  2.9159e-02,  1.6879e-02, -2.9981e-03, -1.6211e-02,\n",
       "          3.2707e-03,  1.9232e-02,  2.2694e-02,  2.3263e-02,  2.4149e-02,\n",
       "          1.8838e-02,  1.6892e-02,  1.0588e-02, -6.3689e-03, -1.5440e-02,\n",
       "          3.3693e-02,  1.1775e-02,  2.3093e-02,  4.1378e-03,  2.6875e-02,\n",
       "          2.9120e-02, -3.6985e-02,  3.1809e-03,  4.7861e-03,  1.9688e-02,\n",
       "          1.9162e-02, -5.9371e-04,  7.1516e-03,  2.8469e-03, -1.8856e-02,\n",
       "         -2.8849e-02, -5.2095e-02, -2.2722e-02,  1.3128e-02,  1.0394e-02,\n",
       "         -5.0113e-02,  1.8108e-02,  2.6209e-02,  1.4404e-02, -1.8672e-02,\n",
       "         -1.3557e-03,  2.0196e-02,  1.4028e-02, -3.9363e-03,  1.2550e-02,\n",
       "         -2.2126e-02, -4.4074e-03,  1.5928e-02, -1.5681e-02,  3.9018e-03,\n",
       "          8.4894e-03, -3.8300e-03, -2.4114e-02,  1.4260e-02, -6.7477e-06,\n",
       "          2.6545e-02, -4.7590e-03, -1.5905e-02, -2.0803e-02,  1.7013e-02,\n",
       "          8.6494e-03,  1.1144e-02, -2.6055e-02, -5.5960e-03,  4.0232e-02,\n",
       "         -2.0679e-02,  2.6371e-02,  4.1849e-03, -7.3769e-03, -2.8179e-02,\n",
       "          2.3888e-02,  1.1878e-02, -1.0290e-02, -4.2975e-03,  1.4098e-02,\n",
       "          9.9548e-03,  2.3616e-02,  8.9422e-03, -3.3212e-02,  9.7725e-03,\n",
       "          1.0724e-02, -2.3340e-03, -2.2188e-02, -9.4332e-03,  1.5387e-02,\n",
       "         -2.4090e-02, -1.0059e-02, -4.5962e-02,  3.8680e-03,  1.4758e-02,\n",
       "          1.7699e-02,  5.2557e-03,  1.1056e-02,  8.3538e-03,  1.3475e-02,\n",
       "         -7.4456e-03, -1.6683e-02,  2.6562e-02, -2.2068e-02, -1.9777e-02,\n",
       "          1.5480e-02,  1.0197e-02,  2.7243e-02, -9.6482e-03,  1.0874e-02,\n",
       "         -1.0930e-02,  4.2608e-02, -1.4463e-02,  1.2752e-02, -2.2273e-02,\n",
       "         -6.7819e-04,  2.1226e-03, -1.1873e-02,  1.3077e-02,  1.5064e-02,\n",
       "         -1.9724e-02, -1.5070e-03, -5.4577e-02, -2.9114e-02,  7.5746e-03,\n",
       "          2.7049e-02, -1.1587e-02, -3.4124e-02, -1.2558e-02, -2.2337e-02,\n",
       "         -1.4991e-02, -9.7443e-03,  9.4702e-03, -3.8696e-02,  3.0531e-02,\n",
       "          8.1764e-03, -1.2141e-02, -1.0087e-02, -4.1855e-03,  1.6226e-02,\n",
       "          2.7439e-02,  6.8054e-03,  5.7383e-03, -1.4934e-02, -2.2533e-03,\n",
       "         -3.0861e-03,  1.5724e-02,  9.9103e-03, -1.4435e-02,  1.9646e-02,\n",
       "         -1.6220e-02, -4.4220e-02, -4.1897e-02, -3.6309e-02, -1.6738e-02,\n",
       "         -2.5304e-02, -7.2322e-03, -2.1350e-02, -1.9435e-02,  1.5633e-02,\n",
       "          1.1762e-02,  1.3249e-02, -1.8573e-02,  9.5490e-03,  1.2552e-02,\n",
       "          8.5939e-03,  3.2177e-02, -1.9029e-03,  1.0390e-03, -1.6243e-02,\n",
       "          8.8083e-03,  2.4194e-02,  3.2909e-03,  7.8792e-03,  2.8660e-02,\n",
       "          1.2000e-02, -2.6324e-03,  1.2435e-02,  8.9691e-03, -1.3452e-02,\n",
       "          2.4063e-02, -2.0900e-02, -3.5315e-02,  1.6738e-02,  6.9544e-03,\n",
       "          4.1906e-03,  2.4600e-02, -1.4748e-02,  5.0422e-03, -2.9588e-03,\n",
       "          1.7184e-02,  7.4624e-03,  2.3199e-02,  5.2839e-03,  5.1908e-04,\n",
       "          2.0062e-02,  1.4651e-02,  9.2558e-03,  1.6391e-02, -1.2693e-02,\n",
       "          8.7541e-03, -2.4952e-02, -1.4896e-02,  3.6191e-02, -1.9084e-02,\n",
       "         -1.2618e-02, -2.7865e-04,  2.7576e-04, -2.3917e-02, -1.9300e-02,\n",
       "          1.2763e-02,  2.4927e-03, -1.7948e-03,  2.0098e-02,  2.5768e-02,\n",
       "         -1.0706e-04, -2.2217e-02,  1.5371e-02, -2.3732e-03, -1.1426e-02,\n",
       "          2.0983e-02,  9.3966e-04,  9.2110e-03, -4.4302e-03,  2.3733e-02,\n",
       "          1.4945e-03, -2.0998e-02, -6.8952e-02,  3.7673e-02, -2.4004e-02,\n",
       "         -1.8216e-02,  1.2356e-02, -1.0658e-02,  7.4376e-03,  4.5317e-03,\n",
       "          2.1406e-02, -1.0824e-02,  5.5510e-03,  4.4419e-03,  8.0409e-03,\n",
       "         -2.4280e-02, -1.0097e-02,  2.6058e-02,  3.6243e-02, -3.6028e-02,\n",
       "          1.9647e-02, -9.0468e-03,  9.1011e-03,  3.4246e-02,  3.2320e-02,\n",
       "          3.0760e-02, -4.6674e-03,  1.2430e-02, -7.3625e-03, -1.3109e-02,\n",
       "         -2.2967e-02, -5.0937e-03,  1.7863e-03, -2.8150e-02, -1.1515e-02,\n",
       "         -7.0162e-03,  1.2483e-03, -5.7669e-03,  2.0488e-02,  2.3929e-02,\n",
       "         -2.1446e-02, -2.1061e-02,  4.0776e-03,  1.5087e-02,  4.8086e-02,\n",
       "          2.3624e-02, -3.3669e-02, -1.9595e-02,  3.6777e-02, -1.0505e-02,\n",
       "          1.5476e-02, -4.4436e-02, -4.0631e-02,  3.7337e-03, -3.7581e-03,\n",
       "         -3.1903e-03,  1.4989e-02, -2.1173e-02,  1.3647e-03, -1.4196e-02,\n",
       "         -7.7271e-03,  7.8761e-03,  1.9242e-03, -6.3569e-03, -1.1328e-02,\n",
       "         -4.4055e-03, -1.4845e-02,  1.4319e-02, -2.1931e-02, -5.7721e-03,\n",
       "         -2.2796e-02, -4.7727e-03,  2.5461e-02,  1.7439e-02,  2.4195e-03,\n",
       "          1.7217e-02, -1.4070e-02, -1.6908e-02,  1.8335e-02,  3.8209e-02,\n",
       "         -5.2248e-03, -1.8404e-02,  9.2986e-03,  5.2316e-03, -2.7226e-02,\n",
       "          2.3941e-02, -6.2739e-03,  2.3630e-02, -4.9879e-04, -3.1984e-02,\n",
       "          1.4272e-02,  1.6853e-02, -3.4980e-03, -3.5485e-02,  3.0453e-02,\n",
       "          5.9759e-03, -2.5824e-03, -3.2589e-02, -2.6114e-02, -2.6125e-02,\n",
       "          5.1782e-04,  1.1602e-02,  6.3195e-02,  2.7681e-02,  2.0758e-02,\n",
       "         -3.6371e-04,  3.7842e-03, -1.4175e-02]], grad_fn=<EmbeddingBackward0>)"
      ]
     },
     "execution_count": 20,
     "metadata": {},
     "output_type": "execute_result"
    }
   ],
   "source": [
    "current_embedding = input_embeddings(torch.LongTensor(tokens_to_test))\n",
    "current_embedding"
   ]
  }
 ],
 "metadata": {
  "kernelspec": {
   "display_name": "Python 3 (ipykernel)",
   "language": "python",
   "name": "python3"
  },
  "language_info": {
   "codemirror_mode": {
    "name": "ipython",
    "version": 3
   },
   "file_extension": ".py",
   "mimetype": "text/x-python",
   "name": "python",
   "nbconvert_exporter": "python",
   "pygments_lexer": "ipython3",
   "version": "3.10.12"
  }
 },
 "nbformat": 4,
 "nbformat_minor": 5
}
