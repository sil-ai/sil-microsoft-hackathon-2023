{
 "cells": [
  {
   "cell_type": "code",
   "execution_count": 1,
   "id": "08a5b7f0-c349-4078-82bf-d11be576027f",
   "metadata": {},
   "outputs": [],
   "source": [
    "import os\n",
    "from ipywidgets import Dropdown\n",
    "import pandas as pd\n",
    "import numpy as np\n",
    "import re\n",
    "from transformers import TextDataset, DataCollatorForLanguageModeling\n",
    "from transformers import GPT2Tokenizer, GPT2LMHeadModel\n",
    "from transformers import Trainer, TrainingArguments\n",
    "from transformers import PreTrainedTokenizerFast, GPT2LMHeadModel, GPT2TokenizerFast, GPT2Tokenizer\n"
   ]
  },
  {
   "cell_type": "code",
   "execution_count": 2,
   "id": "5d99504a-1037-4c88-a6fb-013f01b20ea6",
   "metadata": {},
   "outputs": [],
   "source": [
    "trained_model_folder = \"./out\"\n",
    "language_pair_staging_folder = \"../data/magic_token_folder/\""
   ]
  },
  {
   "cell_type": "code",
   "execution_count": 9,
   "id": "e8f34c8c-bc99-4a5b-9ba3-ea9138f05b57",
   "metadata": {},
   "outputs": [
    {
     "name": "stdout",
     "output_type": "stream",
     "text": [
      "Folders ending with '_model': ['macula_model', 'bsb_model_step', 'greek_model', 'greek_model_step', 'bsb_model', 'target_model', 'hebrew_model']\n"
     ]
    }
   ],
   "source": [
    "if os.path.exists(trained_model_folder) and os.path.isdir(trained_model_folder):\n",
    "    # Get a list of all subfolders in language_pair_staging_folder\n",
    "    subfolders = [folder for folder in os.listdir(trained_model_folder) if os.path.isdir(os.path.join(trained_model_folder, folder))]\n",
    "\n",
    "    # Filter subfolders that end with \"_model\"\n",
    "    model_folders = [folder for folder in subfolders if folder.endswith(\"_model\") or folder.endswith( \"_model_step\" ) ]\n",
    "\n",
    "    # Print or use the list of model folders\n",
    "    print(\"Folders ending with '_model':\", model_folders)\n",
    "else:\n",
    "    print(f\"The folder '{trained_model_folder}' does not exist or is not a directory.\")"
   ]
  },
  {
   "cell_type": "markdown",
   "id": "a9eadf1f-1b47-40e2-a5d2-a4a90ac6a74f",
   "metadata": {},
   "source": [
    "# Inference\n",
    "copying code from https://www.kaggle.com/code/changyeop/how-to-fine-tune-gpt-2-for-beginners/notebook#Step-3.-Inference"
   ]
  },
  {
   "cell_type": "code",
   "execution_count": 23,
   "id": "37f87a66-2b8a-487a-92f2-8d5181b7b85a",
   "metadata": {},
   "outputs": [],
   "source": [
    "def load_model(model_path):\n",
    "    model = GPT2LMHeadModel.from_pretrained(model_path)\n",
    "    return model\n",
    "\n",
    "\n",
    "def load_tokenizer(tokenizer_path):\n",
    "    tokenizer = GPT2Tokenizer.from_pretrained(tokenizer_path)\n",
    "    return tokenizer\n",
    "\n",
    "\n",
    "def generate_text(sequence, max_length, model_path ):\n",
    "    model = load_model(model_path)\n",
    "    tokenizer = load_tokenizer(model_path)\n",
    "    ids = tokenizer.encode(f'{sequence}', return_tensors='pt')\n",
    "    print( f\"Sequence ids {ids}\" )\n",
    "    final_outputs = model.generate(\n",
    "        ids,\n",
    "        do_sample=True,\n",
    "        max_length=max_length,\n",
    "        pad_token_id=model.config.eos_token_id,\n",
    "        top_k=50,\n",
    "        top_p=0.95,\n",
    "    )\n",
    "    print(tokenizer.decode(final_outputs[0], skip_special_tokens=False))"
   ]
  },
  {
   "cell_type": "code",
   "execution_count": 11,
   "id": "6d193e07-c6fa-45f0-825a-474b3945d322",
   "metadata": {},
   "outputs": [
    {
     "name": "stdout",
     "output_type": "stream",
     "text": [
      "Select which model to test\n"
     ]
    },
    {
     "data": {
      "application/vnd.jupyter.widget-view+json": {
       "model_id": "819e9ebe66444a1aaa6021bbffca2834",
       "version_major": 2,
       "version_minor": 0
      },
      "text/plain": [
       "Dropdown(options=('macula_model', 'bsb_model_step', 'greek_model', 'greek_model_step', 'bsb_model', 'target_mo…"
      ]
     },
     "metadata": {},
     "output_type": "display_data"
    }
   ],
   "source": [
    "selected_model_dropdown = Dropdown(options=model_folders)\n",
    "print( \"Select which model to test\" )\n",
    "display(selected_model_dropdown)"
   ]
  },
  {
   "cell_type": "code",
   "execution_count": 27,
   "id": "bae01730-add6-455b-9318-e0005840ae52",
   "metadata": {},
   "outputs": [
    {
     "name": "stdout",
     "output_type": "stream",
     "text": [
      "Sequence ids tensor([[96547, 96548]])\n",
      "[MAT 1:1_a] [MAT 1:1_b] He went out to fight, and when he came to a young man, he began to beat him with swords. Then He spit in his face and said to the young man, “Do you not know what the sword of God is like?” And the young man took a chair by his side and asked him, “What do you want?” “A sword,” he replied. “I brought my children up by your side and will go\n"
     ]
    }
   ],
   "source": [
    "generate_text( \"[MAT 1:1_a][MAT 1:1_b]\", 100, os.path.join( trained_model_folder, selected_model_dropdown.value ) )"
   ]
  },
  {
   "cell_type": "code",
   "execution_count": 28,
   "id": "38a0bfee-268c-4274-84b1-8cabd839e0a9",
   "metadata": {},
   "outputs": [
    {
     "name": "stdout",
     "output_type": "stream",
     "text": [
      "Sequence ids tensor([[96547, 96548]])\n",
      "[MAT 1:1_a] [MAT 1:1_b] He also sent his daughter, a beautiful virgin from Jerusalem, to the city where the king had sent him. She was twenty-three years old, and the daughter of King Darius, the daughter of Zadok the Jezreelite. She stayed there with the servants of King Darius, the master of the temple. When Queen Esther saw that his daughter was with the king, she was greatly alarmed. And the maidservant who stayed with the king said to the king,\n"
     ]
    }
   ],
   "source": [
    "generate_text( \"[MAT 1:1_a][MAT 1:1_b]\", 100, os.path.join( trained_model_folder, selected_model_dropdown.value ) )"
   ]
  },
  {
   "cell_type": "code",
   "execution_count": null,
   "id": "c74a7d12-9967-44be-973f-590efa21daf9",
   "metadata": {},
   "outputs": [],
   "source": []
  }
 ],
 "metadata": {
  "kernelspec": {
   "display_name": "Python 3 (ipykernel)",
   "language": "python",
   "name": "python3"
  },
  "language_info": {
   "codemirror_mode": {
    "name": "ipython",
    "version": 3
   },
   "file_extension": ".py",
   "mimetype": "text/x-python",
   "name": "python",
   "nbconvert_exporter": "python",
   "pygments_lexer": "ipython3",
   "version": "3.10.12"
  }
 },
 "nbformat": 4,
 "nbformat_minor": 5
}
