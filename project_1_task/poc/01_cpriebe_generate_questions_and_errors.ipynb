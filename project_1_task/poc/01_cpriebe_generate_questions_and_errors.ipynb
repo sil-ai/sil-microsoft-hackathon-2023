{
 "cells": [
  {
   "cell_type": "markdown",
   "metadata": {},
   "source": [
    "# Generate Questions and Errors from Biblical Data\n",
    "I used GPT to create a prompt for me.  See this here https://chat.openai.com/share/37fce0d6-a384-4181-a2bf-6b2a18fd96bb\n",
    "\n"
   ]
  },
  {
   "cell_type": "markdown",
   "metadata": {},
   "source": [
    "First, set your `OPENAI_API_KEY` environment variable. This allows you to securely authenticate with the OpenAI API, without worrying about leaving the value in your code. You can find your API key in your [OpenAI dashboard](https://help.openai.com/en/articles/4936850-where-do-i-find-my-secret-api-key)."
   ]
  },
  {
   "cell_type": "code",
   "execution_count": 12,
   "metadata": {},
   "outputs": [],
   "source": [
    "import getpass, os, openai\n",
    "\n",
    "secret_key = getpass.getpass('Enter OpenAI secret key: ') \n",
    "os.environ['OPENAI_API_KEY'] = secret_key\n",
    "\n",
    "MODEL = 'gpt-3.5-turbo'\n",
    "\n",
    "\n",
    "\n"
   ]
  },
  {
   "cell_type": "code",
   "execution_count": 16,
   "metadata": {},
   "outputs": [
    {
     "name": "stdout",
     "output_type": "stream",
     "text": [
      "Using Azure API endpoint\n"
     ]
    }
   ],
   "source": [
    "# If using the azure API endpoint, use the Azure instead\n",
    "if not secret_key.startswith('sk-'):\n",
    "    print(\"Using Azure API endpoint\")\n",
    "    openai.api_type = \"azure\"\n",
    "    openai.api_base = os.environ['OPENAI_API_BASE'] = 'https://americasopenai.azure-api.net/'\n",
    "    openai.api_version = os.environ['OPENAI_API_VERSION'] = '2023-05-15'\n",
    "    openai.api_key = secret_key\n",
    "    \n",
    "    MODEL = 'gpt-35-turbo-16k'\n"
   ]
  },
  {
   "cell_type": "markdown",
   "metadata": {},
   "source": [
    "## Generate questions and answers from biblical data\n",
    "Have GPT take on a role of linguistical biblical expert\n"
   ]
  },
  {
   "cell_type": "code",
   "execution_count": 7,
   "metadata": {},
   "outputs": [],
   "source": [
    "examples = \"\"\"\n",
    "[\n",
    "  {\n",
    "    \"verse\": \"Genesis 1:1\",\n",
    "    \"question\": \"Who created the heavens and the earth?\",\n",
    "    \"answer\": \"God\",\n",
    "    \"examples\": {\n",
    "      \"bad_translation\": \"At the start, gods made sky and rocks.\",\n",
    "      \"wrong_answer\": \"gods\"\n",
    "    }\n",
    "  },\n",
    "  {\n",
    "    \"verse\": \"Genesis 1:1\",\n",
    "    \"question\": \"What did God create in the beginning?\",\n",
    "    \"answer\": \"The heavens and the earth\",\n",
    "    \"examples\": {\n",
    "      \"bad_translation\": \"In the outset, divinities fashioned the atmosphere and stones.\",\n",
    "      \"wrong_answer\": \"atmosphere and stones\"\n",
    "    }\n",
    "  },\n",
    "  {\n",
    "    \"verse\": \"Genesis 1:1\",\n",
    "    \"question\": \"What time frame is indicated for the creation?\",\n",
    "    \"answer\": \"In the beginning\",\n",
    "    \"examples\": {\n",
    "      \"bad_translation\": \"Initially, a deity brought forth the skies and the land.\",\n",
    "      \"wrong_answer\": \"Initially\"\n",
    "    }\n",
    "  }\n",
    "]\n",
    "\"\"\""
   ]
  },
  {
   "cell_type": "code",
   "execution_count": 18,
   "metadata": {},
   "outputs": [
    {
     "data": {
      "text/plain": [
       "[{'verse': 'Genesis 1:1',\n",
       "  'question': 'Who created the heavens and the earth?',\n",
       "  'answer': 'God',\n",
       "  'examples': {'bad_translation': 'At the start, gods made sky and rocks.',\n",
       "   'wrong_answer': 'gods'}},\n",
       " {'verse': 'Genesis 1:1',\n",
       "  'question': 'What did God create in the beginning?',\n",
       "  'answer': 'The heavens and the earth',\n",
       "  'examples': {'bad_translation': 'In the outset, divinities fashioned the atmosphere and stones.',\n",
       "   'wrong_answer': 'atmosphere and stones'}},\n",
       " {'verse': 'Genesis 1:1',\n",
       "  'question': 'What time frame is indicated for the creation?',\n",
       "  'answer': 'In the beginning',\n",
       "  'examples': {'bad_translation': 'Initially, a deity brought forth the skies and the land.',\n",
       "   'wrong_answer': 'Initially'}},\n",
       " {'verse': 'John 3:16',\n",
       "  'question': 'Who did God give his one and only Son for?',\n",
       "  'answer': 'The world',\n",
       "  'examples': {'bad_translation': 'God gave his unique Son for the people.',\n",
       "   'wrong_answer': 'the people'}},\n",
       " {'verse': 'John 3:16',\n",
       "  'question': 'What did God give to the world?',\n",
       "  'answer': 'His one and only Son',\n",
       "  'examples': {'bad_translation': 'God gave his only child to the world.',\n",
       "   'wrong_answer': 'only child'}},\n",
       " {'verse': 'John 3:16',\n",
       "  'question': 'What is the purpose of God giving his Son?',\n",
       "  'answer': 'So that whoever believes in him shall not perish but have eternal life',\n",
       "  'examples': {'bad_translation': 'God gave his Son so that those who trust in him will not die but have life forever.',\n",
       "   'wrong_answer': 'those who trust in him will not die but have life forever'}},\n",
       " {'verse': 'Psalm 23:1',\n",
       "  'question': 'Who is the Lord?',\n",
       "  'answer': 'The Lord is my shepherd',\n",
       "  'examples': {'bad_translation': 'The Lord is my guide.',\n",
       "   'wrong_answer': 'my guide'}},\n",
       " {'verse': 'Psalm 23:1',\n",
       "  'question': 'What is the role of the Lord?',\n",
       "  'answer': 'To be my shepherd',\n",
       "  'examples': {'bad_translation': 'The Lord is my caretaker.',\n",
       "   'wrong_answer': 'my caretaker'}},\n",
       " {'verse': 'Psalm 23:1',\n",
       "  'question': 'Who is the subject of this verse?',\n",
       "  'answer': 'The Lord',\n",
       "  'examples': {'bad_translation': 'I am the subject of this verse.',\n",
       "   'wrong_answer': 'I'}}]"
      ]
     },
     "execution_count": 18,
     "metadata": {},
     "output_type": "execute_result"
    }
   ],
   "source": [
    "import json\n",
    "def query(verse=\"Jn 3:16\"):\n",
    "    messages = [\n",
    "        {\"role\":\"system\",\"content\": \"Generate a structured JSON array that includes quality control questions aimed at identifying potential errors in translations of the following Bible verses: Genesis 1:1, John 3:16, and Psalm 23:1. The JSON should include the verse reference, the question, the correct answer, and examples of bad translations with the wrong answers they would yield.\"},\n",
    "        {\"role\":\"user\",\"content\": \"Matthew 28:19\"},\n",
    "        {\"role\":\"system\",\"content\": examples},\n",
    "    ]\n",
    "    response = openai.ChatCompletion.create(\n",
    "            engine=MODEL,\n",
    "            messages = messages,\n",
    "            temperature=0.25,\n",
    "            max_tokens=8000,\n",
    "            stop=None)\n",
    "    result = response.get('choices',[{}])[0].get('message',{'content':''}).get('content','') \n",
    "    try:\n",
    "        return json.loads(result)\n",
    "    except:\n",
    "        # extract json out of the result string\n",
    "        result = result[result.find('{'):result.rfind('}')+1]\n",
    "        return json.loads(result)\n",
    "\n",
    "query(\"Jn 1:1\")"
   ]
  }
 ],
 "metadata": {
  "kernelspec": {
   "display_name": "Python 3",
   "language": "python",
   "name": "python3"
  },
  "language_info": {
   "codemirror_mode": {
    "name": "ipython",
    "version": 3
   },
   "file_extension": ".py",
   "mimetype": "text/x-python",
   "name": "python",
   "nbconvert_exporter": "python",
   "pygments_lexer": "ipython3",
   "version": "3.11.5"
  },
  "orig_nbformat": 4
 },
 "nbformat": 4,
 "nbformat_minor": 2
}
