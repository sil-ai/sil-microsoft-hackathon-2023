{
 "cells": [
  {
   "cell_type": "markdown",
   "metadata": {},
   "source": [
    "# Generate Questions and Errors from Biblical Data\n",
    "I used GPT to create a prompt for me.  See this here https://chat.openai.com/share/37fce0d6-a384-4181-a2bf-6b2a18fd96bb\n",
    "\n"
   ]
  },
  {
   "cell_type": "markdown",
   "metadata": {},
   "source": [
    "First, set your `OPENAI_API_KEY` environment variable. This allows you to securely authenticate with the OpenAI API, without worrying about leaving the value in your code. You can find your API key in your [OpenAI dashboard](https://help.openai.com/en/articles/4936850-where-do-i-find-my-secret-api-key)."
   ]
  },
  {
   "cell_type": "code",
   "execution_count": 2,
   "metadata": {},
   "outputs": [],
   "source": [
    "import getpass, os, openai\n",
    "\n",
    "secret_key = getpass.getpass('Enter OpenAI secret key: ') \n",
    "os.environ['OPENAI_API_KEY'] = secret_key\n",
    "\n",
    "MODEL = 'gpt-3.5-turbo'\n",
    "\n",
    "\n",
    "\n"
   ]
  },
  {
   "cell_type": "code",
   "execution_count": 3,
   "metadata": {},
   "outputs": [
    {
     "name": "stdout",
     "output_type": "stream",
     "text": [
      "Using Azure API endpoint\n"
     ]
    }
   ],
   "source": [
    "# If using the azure API endpoint, use the Azure instead\n",
    "if not secret_key.startswith('sk-'):\n",
    "    print(\"Using Azure API endpoint\")\n",
    "    openai.api_type = \"azure\"\n",
    "    openai.api_base = os.environ['OPENAI_API_BASE'] = 'https://americasopenai.azure-api.net/'\n",
    "    openai.api_version = os.environ['OPENAI_API_VERSION'] = '2023-05-15'\n",
    "    openai.api_key = secret_key\n",
    "    \n",
    "    MODEL = 'gpt-35-turbo-16k'\n"
   ]
  },
  {
   "cell_type": "markdown",
   "metadata": {},
   "source": [
    "## Generate questions and answers from biblical data\n",
    "Have GPT take on a role of linguistical biblical expert\n"
   ]
  },
  {
   "cell_type": "code",
   "execution_count": 14,
   "metadata": {},
   "outputs": [],
   "source": [
    "role = \"\"\"\n",
    "As an AI trained in Biblical Greek and Hebrew, your role is to assist with quality control in Bible translation by generating a set of questions aimed at identifying potential errors in new translations. \n",
    "\n",
    "You'll be given Bible verses in their original languages and your task is to produce a structured JSON array that includes the verse reference, quality control questions, the correct answer to those questions, \n",
    "and examples of bad translations with the wrong answers they would yield.\n",
    "\n",
    " - Each example should be unique\n",
    " - Each example should be a plausible error that a human translator might make\n",
    " - The error must be very obvious and true across multiple languages.  Semantically similar words are not errors as many languages don't have the exact same word.  For instance \"the message\" and \"the Word\" may be the same.\n",
    " - The question should be simple enough an AI NLP model can answer it\n",
    "\n",
    "\"\"\"\n",
    "bad_examples = \"\"\"\n",
    "[{'verse': 'John 1:1',\n",
    "  'question': 'Who was in the beginning?',\n",
    "  'answer': 'The Word',\n",
    "  'examples': {'bad_translation': 'In the start, the message was present.',\n",
    "   'wrong_answer': 'the message'}},\n",
    " {'verse': 'John 1:1',\n",
    "  'question': 'What was with God in the beginning?',\n",
    "  'answer': 'The Word',\n",
    "  'examples': {'bad_translation': 'In the outset, the communication was alongside God.',\n",
    "   'wrong_answer': 'the communication'}},\n",
    " {'verse': 'John 1:1',\n",
    "  'question': 'What was God?',\n",
    "  'answer': 'The Word',\n",
    "  'examples': {'bad_translation': 'In the beginning, God was a word.',\n",
    "   'wrong_answer': 'a word'}}]\n",
    "\"\"\"\n",
    "\n",
    "fixed_examples = \"\"\"\n",
    "[{'verse': 'John 1:1',\n",
    "  'question': 'Who was in the beginning?',\n",
    "  'answer': 'The Word',\n",
    "  'examples': {'bad_translation': 'In the start, the book was present.',\n",
    "   'wrong_answer': 'the book'}},\n",
    " {'verse': 'John 1:1',\n",
    "  'question': 'What was with God in the beginning?',\n",
    "  'answer': 'The Word',\n",
    "  'examples': {'bad_translation': 'In the outset, the speaker was alongside God.',\n",
    "   'wrong_answer': 'the speaker'}},\n",
    " {'verse': 'John 1:1',\n",
    "  'question': 'What was God?',\n",
    "  'answer': 'The Word',\n",
    "  'examples': {'bad_translation': 'In the beginning, God was a letter.',\n",
    "   'wrong_answer': 'a letter'}}]\n",
    "\"\"\"\n",
    "\n",
    "examples = \"\"\"\n",
    "[\n",
    "  {\n",
    "    \"verse\": \"Genesis 1:1\",\n",
    "    \"question\": \"Who created the heavens and the earth?\",\n",
    "    \"answer\": \"God\",\n",
    "    \"examples\": {\n",
    "      \"bad_translation\": \"At the start, gods made sky and rocks.\",\n",
    "      \"wrong_answer\": \"gods\"\n",
    "    }\n",
    "  },\n",
    "  {\n",
    "    \"verse\": \"Genesis 1:1\",\n",
    "    \"question\": \"What did God create in the beginning?\",\n",
    "    \"answer\": \"The heavens and the earth\",\n",
    "    \"examples\": {\n",
    "      \"bad_translation\": \"In the outset, divinities fashioned the atmosphere and stones.\",\n",
    "      \"wrong_answer\": \"atmosphere and stones\"\n",
    "    }\n",
    "  },\n",
    "  {\n",
    "    \"verse\": \"Genesis 1:1\",\n",
    "    \"question\": \"When did God create?\",\n",
    "    \"answer\": \"In the beginning\",\n",
    "    \"examples\": {\n",
    "      \"bad_translation\": \"Once upon a time, a deity brought forth the skies and the land.\",\n",
    "      \"wrong_answer\": \"Once upon a time\"\n",
    "    }\n",
    "  }\n",
    "]\n",
    "\"\"\""
   ]
  },
  {
   "cell_type": "code",
   "execution_count": 18,
   "metadata": {},
   "outputs": [
    {
     "data": {
      "text/plain": [
       "[{'verse': 'Matthew 12:1',\n",
       "  'question': 'What did the disciples do?',\n",
       "  'answer': 'They were hungry and began to pluck heads of grain and eat.',\n",
       "  'examples': {'bad_translation': 'The followers were famished and started to pick fruits and eat.',\n",
       "   'wrong_answer': 'pick fruits'}},\n",
       " {'verse': 'Matthew 12:1',\n",
       "  'question': 'What day did this happen?',\n",
       "  'answer': 'The Sabbath',\n",
       "  'examples': {'bad_translation': 'This occurred on the holy day.',\n",
       "   'wrong_answer': 'holy day'}},\n",
       " {'verse': 'Matthew 12:1',\n",
       "  'question': 'What did the Pharisees say to Jesus?',\n",
       "  'answer': 'Look, your disciples are doing what is not lawful to do on the Sabbath.',\n",
       "  'examples': {'bad_translation': 'Behold, your followers are doing what is forbidden on the holy day.',\n",
       "   'wrong_answer': 'forbidden on the holy day'}},\n",
       " {'verse': 'Matthew 12:1',\n",
       "  'question': 'Why did the disciples pluck heads of grain?',\n",
       "  'answer': 'Because they were hungry',\n",
       "  'examples': {'bad_translation': 'Due to their hunger, the followers picked fruits.',\n",
       "   'wrong_answer': 'Due to their hunger'}},\n",
       " {'verse': 'Matthew 12:1',\n",
       "  'question': 'What did the disciples do with the heads of grain?',\n",
       "  'answer': 'They ate them',\n",
       "  'examples': {'bad_translation': 'They consumed the fruits.',\n",
       "   'wrong_answer': 'They consumed the fruits'}}]"
      ]
     },
     "execution_count": 18,
     "metadata": {},
     "output_type": "execute_result"
    }
   ],
   "source": [
    "import json\n",
    "def query(verse=\"Jn 3:16\", total=3):\n",
    "    messages = [\n",
    "        {\"role\":\"system\",\"content\": role},\n",
    "        {\"role\":\"user\",\"content\": \"Any\"},\n",
    "        {\"role\":\"system\",\"content\": bad_examples},\n",
    "        {\"role\":\"user\",\"content\": \"That is wrong!  Fix it!  The message and the communication carry close enough meaning to the Word that they are not errors.  word in lowercase is not an error b/c some languages don't have case like that.  I want errors that are obvious and true across multiple languages.\"},\n",
    "        {\"role\":\"system\",\"content\": fixed_examples},\n",
    "        {\"role\":\"user\",\"content\": \"Genesis 1:1\"},\n",
    "        {\"role\":\"system\",\"content\": examples},\n",
    "    ]\n",
    "    if not total == 3:\n",
    "        messages.append({\"role\":\"user\",\"content\": f\"Use that format but I want {total} examples for {verse}\"})\n",
    "    else:\n",
    "        messages.append({\"role\":\"user\",\"content\": verse})\n",
    "        \n",
    "    response = openai.ChatCompletion.create(\n",
    "            engine=MODEL,\n",
    "            messages = messages,\n",
    "            temperature=0.25,\n",
    "            max_tokens=8000,\n",
    "            stop=None)\n",
    "    result = response.get('choices',[{}])[0].get('message',{'content':''}).get('content','') \n",
    "    try:\n",
    "        return json.loads(result)\n",
    "    except:\n",
    "        # extract json out of the result string\n",
    "        result = result[result.find('{'):result.rfind('}')+1]\n",
    "        return json.loads(result)\n",
    "\n",
    "query(\"Mt 12:1\", 5)"
   ]
  }
 ],
 "metadata": {
  "kernelspec": {
   "display_name": "Python 3",
   "language": "python",
   "name": "python3"
  },
  "language_info": {
   "codemirror_mode": {
    "name": "ipython",
    "version": 3
   },
   "file_extension": ".py",
   "mimetype": "text/x-python",
   "name": "python",
   "nbconvert_exporter": "python",
   "pygments_lexer": "ipython3",
   "version": "3.11.5"
  },
  "orig_nbformat": 4
 },
 "nbformat": 4,
 "nbformat_minor": 2
}
